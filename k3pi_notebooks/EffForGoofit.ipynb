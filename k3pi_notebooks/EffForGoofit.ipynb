{
 "cells": [
  {
   "cell_type": "code",
   "execution_count": 2,
   "metadata": {
    "collapsed": false
   },
   "outputs": [
    {
     "name": "stderr",
     "output_type": "stream",
     "text": [
      "/afs/cern.ch/user/d/dmuller/work/anaconda3/envs/k3pi_python3/lib/python3.6/site-packages/sklearn/cross_validation.py:44: DeprecationWarning: This module was deprecated in version 0.18 in favor of the model_selection module into which all the refactored classes and functions are moved. Also note that the interface of the new CV iterators are different from that of this module. This module will be removed in 0.20.\n",
      "  \"This module will be removed in 0.20.\", DeprecationWarning)\n",
      "/afs/cern.ch/user/d/dmuller/work/anaconda3/envs/k3pi_python3/lib/python3.6/site-packages/IPython/html.py:14: ShimWarning: The `IPython.html` package has been deprecated since IPython 4.0. You should import from `notebook` instead. `IPython.html.widgets` has moved to `ipywidgets`.\n",
      "  \"`IPython.html.widgets` has moved to `ipywidgets`.\", ShimWarning)\n"
     ]
    }
   ],
   "source": [
    "%config InlineBackend.figure_format='retina'\n",
    "%matplotlib inline\n",
    "from analysis import model_generated, selection, add_variables, final_selection, phsp_generator\n",
    "from k3pi_utilities import helpers\n",
    "from matplotlib.backends.backend_pdf import PdfPages\n",
    "from analysis.mass_fitting import get_yields, fit_parameters\n",
    "from k3pi_config.modes import MODE, gcm\n",
    "from k3pi_config import config\n",
    "config.candidates_selection = True\n",
    "config.optimised_selection = True\n",
    "config.misid_selection = True\n",
    "\n",
    "from analysis import efficiencies\n",
    "import numpy as np\n",
    "import matplotlib.pyplot as plt\n",
    "from k3pi_plotting import comparison\n",
    "\n",
    "\n",
    "from k3pi_config.modes.D0ToKpipipi_RS import D0ToKpipipi_RS as mode_config\n",
    "from k3pi_utilities import variables as vars\n",
    "from k3pi_utilities import logger"
   ]
  },
  {
   "cell_type": "code",
   "execution_count": 3,
   "metadata": {
    "collapsed": false
   },
   "outputs": [],
   "source": [
    "RS = model_generated.get_model()\n",
    "WS = model_generated.get_model_ws()"
   ]
  },
  {
   "cell_type": "code",
   "execution_count": 13,
   "metadata": {
    "collapsed": false
   },
   "outputs": [],
   "source": [
    "with MODE('MagBoth', 1516, 'WS'):\n",
    "\n",
    "    outfile = gcm().get_output_path('effs') + 'WS_RS_comparison.pdf'\n",
    "    with PdfPages(outfile) as pdf:\n",
    "        for pc in gcm().phsp_vars + extra_vars:\n",
    "            filled = WS[pc.var]\n",
    "            errorbars = RS[pc.var]\n",
    "            pc.binning = (100, *pc.binning[1:])\n",
    "            if pc.convert is not None:\n",
    "                filled = pc.convert(filled)\n",
    "                errorbars = pc.convert(errorbars)\n",
    "            ax = comparison.plot_comparison(\n",
    "                    pc, filled, errorbars, 'WS', 'RS')\n",
    "            ax.set_xlabel(pc.xlabel)\n",
    "            ax.yaxis.set_visible(False)\n",
    "            ax.legend()\n",
    "            pdf.savefig(plt.gcf())\n",
    "            plt.close()"
   ]
  },
  {
   "cell_type": "code",
   "execution_count": 3,
   "metadata": {
    "collapsed": false
   },
   "outputs": [
    {
     "name": "stderr",
     "output_type": "stream",
     "text": [
      "\u001b[32mINFO:buffer_load:Loading Cached/phsp_variablesD0ToKpipipi_WSMagBoth1516 from output/data/store.h5\u001b[0m\n",
      "\u001b[32mINFO:buffer_load:Loading Cached/full_selectionD0ToKpipipi_WSMagBoth1516 from output/data/store.h5\u001b[0m\n",
      "\u001b[32mINFO:buffer_load:Loading Cached/bdt_selectionD0ToKpipipi_WSMagBoth1516 from output/data/store.h5\u001b[0m\n",
      "\u001b[32mINFO:buffer_load:Loading Cached/spearmint_spi_selectionD0ToKpipipi_WSMagBoth1516 from output/data/store.h5\u001b[0m\n",
      "\u001b[32mINFO:buffer_load:Loading Cached/remove_right_sign_candidatesD0ToKpipipi_WSMagBoth1516 from output/data/store.h5\u001b[0m\n",
      "\u001b[32mINFO:buffer_load:Loading Cached/randomly_remove_candidatesD0ToKpipipi_WSMagBoth1516 from output/data/store.h5\u001b[0m\n",
      "\u001b[32mINFO:buffer_load:Loading Cached/remove_clonesD0ToKpipipi_WSMagBoth1516 from output/data/store.h5\u001b[0m\n",
      "\u001b[32mINFO:buffer_load:Loading Cached/delta_mass_signal_regionD0ToKpipipi_WSMagBoth1516 from output/data/store.h5\u001b[0m\n",
      "\u001b[32mINFO:buffer_load:Loading Cached/full_selectionD0ToKpipipi_WSMagBoth1516 from output/data/store.h5\u001b[0m\n",
      "\u001b[32mINFO:buffer_load:Loading Cached/bdt_selectionD0ToKpipipi_WSMagBoth1516 from output/data/store.h5\u001b[0m\n",
      "\u001b[32mINFO:buffer_load:Loading Cached/spearmint_spi_selectionD0ToKpipipi_WSMagBoth1516 from output/data/store.h5\u001b[0m\n",
      "\u001b[32mINFO:buffer_load:Loading Cached/remove_right_sign_candidatesD0ToKpipipi_WSMagBoth1516 from output/data/store.h5\u001b[0m\n",
      "\u001b[32mINFO:buffer_load:Loading Cached/randomly_remove_candidatesD0ToKpipipi_WSMagBoth1516 from output/data/store.h5\u001b[0m\n",
      "\u001b[32mINFO:buffer_load:Loading Cached/remove_clonesD0ToKpipipi_WSMagBoth1516 from output/data/store.h5\u001b[0m\n",
      "\u001b[32mINFO:buffer_load:Loading Cached/mass_sideband_regionD0ToKpipipi_WSMagBoth1516 from output/data/store.h5\u001b[0m\n",
      "\u001b[32mINFO:buffer_load:Loading Cached/full_selectionD0ToKpipipi_WSMagBoth1516 from output/data/store.h5\u001b[0m\n",
      "\u001b[32mINFO:buffer_load:Loading Cached/bdt_selectionD0ToKpipipi_WSMagBoth1516 from output/data/store.h5\u001b[0m\n",
      "\u001b[32mINFO:buffer_load:Loading Cached/spearmint_spi_selectionD0ToKpipipi_WSMagBoth1516 from output/data/store.h5\u001b[0m\n",
      "\u001b[32mINFO:buffer_load:Loading Cached/remove_right_sign_candidatesD0ToKpipipi_WSMagBoth1516 from output/data/store.h5\u001b[0m\n",
      "\u001b[32mINFO:buffer_load:Loading Cached/randomly_remove_candidatesD0ToKpipipi_WSMagBoth1516 from output/data/store.h5\u001b[0m\n",
      "\u001b[32mINFO:buffer_load:Loading Cached/remove_clonesD0ToKpipipi_WSMagBoth1516 from output/data/store.h5\u001b[0m\n",
      "\u001b[32mINFO:buffer_load:Loading Cached/delta_mass_sideband_nearD0ToKpipipi_WSMagBoth1516 from output/data/store.h5\u001b[0m\n",
      "\u001b[32mINFO:buffer_load:Loading Cached/full_selectionD0ToKpipipi_WSMagBoth1516 from output/data/store.h5\u001b[0m\n",
      "\u001b[32mINFO:buffer_load:Loading Cached/bdt_selectionD0ToKpipipi_WSMagBoth1516 from output/data/store.h5\u001b[0m\n",
      "\u001b[32mINFO:buffer_load:Loading Cached/spearmint_spi_selectionD0ToKpipipi_WSMagBoth1516 from output/data/store.h5\u001b[0m\n",
      "\u001b[32mINFO:buffer_load:Loading Cached/remove_right_sign_candidatesD0ToKpipipi_WSMagBoth1516 from output/data/store.h5\u001b[0m\n",
      "\u001b[32mINFO:buffer_load:Loading Cached/randomly_remove_candidatesD0ToKpipipi_WSMagBoth1516 from output/data/store.h5\u001b[0m\n",
      "\u001b[32mINFO:buffer_load:Loading Cached/remove_clonesD0ToKpipipi_WSMagBoth1516 from output/data/store.h5\u001b[0m\n",
      "\u001b[32mINFO:buffer_load:Loading Cached/delta_mass_sideband_farD0ToKpipipi_WSMagBoth1516 from output/data/store.h5\u001b[0m\n",
      "\u001b[32mINFO:buffer_load:Loading Cached/full_selectionD0ToKpipipi_WSMagBoth1516 from output/data/store.h5\u001b[0m\n",
      "\u001b[32mINFO:buffer_load:Loading Cached/bdt_selectionD0ToKpipipi_WSMagBoth1516 from output/data/store.h5\u001b[0m\n",
      "\u001b[32mINFO:buffer_load:Loading Cached/spearmint_spi_selectionD0ToKpipipi_WSMagBoth1516 from output/data/store.h5\u001b[0m\n",
      "\u001b[32mINFO:buffer_load:Loading Cached/delta_mass_signal_regionD0ToKpipipi_WSMagBoth1516 from output/data/store.h5\u001b[0m\n",
      "\u001b[32mINFO:buffer_load:Loading Cached/phsp_variablesD0ToKpipipi_RSMagBoth1516 from output/data/store.h5\u001b[0m\n",
      "\u001b[32mINFO:buffer_load:Loading Cached/full_selectionD0ToKpipipi_RSMagBoth1516 from output/data/store.h5\u001b[0m\n",
      "\u001b[32mINFO:buffer_load:Loading Cached/bdt_selectionD0ToKpipipi_RSMagBoth1516 from output/data/store.h5\u001b[0m\n",
      "\u001b[32mINFO:buffer_load:Loading Cached/spearmint_spi_selectionD0ToKpipipi_RSMagBoth1516 from output/data/store.h5\u001b[0m\n",
      "\u001b[32mINFO:buffer_load:Loading Cached/delta_mass_signal_regionD0ToKpipipi_RSMagBoth1516 from output/data/store.h5\u001b[0m\n"
     ]
    }
   ],
   "source": [
    "with MODE('MagBoth', 1516, 'WS'):\n",
    "\n",
    "    extra_vars = [\n",
    "        gcm().ltime_var\n",
    "    ]\n",
    "\n",
    "    # Current mode stuff\n",
    "    data = gcm().get_data([f.var for f in extra_vars])\n",
    "    add_variables.append_phsp(data)\n",
    "    df_sel = final_selection.get_final_selection()\n",
    "    df_sel &= selection.delta_mass_signal_region()\n",
    "    df_sb = final_selection.get_final_selection()\n",
    "    df_sb &= selection.mass_sideband_region()\n",
    "    df_sb_n = final_selection.get_final_selection()\n",
    "    df_sb_n &= selection.delta_mass_sideband_near()\n",
    "    df_sb_f = final_selection.get_final_selection()\n",
    "    df_sb_f &= selection.delta_mass_sideband_far()\n",
    "    config.candidates_selection = False\n",
    "    df_sel2 = final_selection.get_final_selection()\n",
    "    df_sel2 &= selection.delta_mass_signal_region()\n",
    "    \n",
    "with MODE('MagBoth', 1516, 'RS'):\n",
    "\n",
    "    extra_vars = [\n",
    "        gcm().ltime_var\n",
    "    ]\n",
    "\n",
    "    # Current mode stuff\n",
    "    data_rs = gcm().get_data([f.var for f in extra_vars])\n",
    "    add_variables.append_phsp(data_rs)\n",
    "    rs_sel = final_selection.get_final_selection()\n",
    "    rs_sel &= selection.delta_mass_signal_region()"
   ]
  },
  {
   "cell_type": "code",
   "execution_count": 5,
   "metadata": {
    "collapsed": false
   },
   "outputs": [
    {
     "name": "stderr",
     "output_type": "stream",
     "text": [
      "\u001b[32mINFO:helpers:Creating directory structure output/D0ToKpipipi_WS_1516_MagBoth/background/\u001b[0m\n"
     ]
    }
   ],
   "source": [
    "with MODE('MagBoth', 1516, 'WS'):\n",
    "    outfile = gcm().get_output_path('background') + 'near_far.pdf'\n",
    "    with PdfPages(outfile) as pdf:\n",
    "        for pc in gcm().phsp_vars + extra_vars:\n",
    "            filled = data[pc.var][df_sb_n]\n",
    "            errorbars = data[pc.var][df_sb_f]\n",
    "            if pc.convert is not None:\n",
    "                filled = pc.convert(filled)\n",
    "                errorbars = pc.convert(errorbars)\n",
    "            ax = comparison.plot_comparison(\n",
    "                    pc, filled, errorbars, 'Near', 'Far', normed=True)\n",
    "            ax.set_xlabel(pc.xlabel)\n",
    "            ax.yaxis.set_visible(False)\n",
    "            ax.legend()\n",
    "            pdf.savefig(plt.gcf())\n",
    "            plt.close()"
   ]
  },
  {
   "cell_type": "code",
   "execution_count": 3,
   "metadata": {
    "collapsed": false
   },
   "outputs": [
    {
     "name": "stderr",
     "output_type": "stream",
     "text": [
      "\u001b[32mINFO:metrics:Signal yield: 2788.6900062735735\u001b[0m\n",
      "\u001b[32mINFO:metrics:Signal integral: 0.85066458033669\u001b[0m\n",
      "\u001b[32mINFO:metrics:Random pion yield: 57576.28894096113\u001b[0m\n",
      "\u001b[32mINFO:metrics:Random pion integral: 0.050888265696840865\u001b[0m\n"
     ]
    }
   ],
   "source": [
    "with MODE('MagBoth', 1516, 'WS'):\n",
    "    a = get_yields()"
   ]
  },
  {
   "cell_type": "code",
   "execution_count": 4,
   "metadata": {
    "collapsed": false
   },
   "outputs": [
    {
     "data": {
      "text/plain": [
       "246.04757989433696"
      ]
     },
     "execution_count": 4,
     "metadata": {},
     "output_type": "execute_result"
    }
   ],
   "source": [
    "np.sqrt(2788.6900062735735*30)*0.85066458033669"
   ]
  },
  {
   "cell_type": "code",
   "execution_count": 5,
   "metadata": {
    "collapsed": false
   },
   "outputs": [
    {
     "data": {
      "text/plain": [
       "66.880592522281049"
      ]
     },
     "execution_count": 5,
     "metadata": {},
     "output_type": "execute_result"
    }
   ],
   "source": [
    "np.sqrt(57576.28894096113*30)*0.050888265696840865"
   ]
  },
  {
   "cell_type": "code",
   "execution_count": 6,
   "metadata": {
    "collapsed": false
   },
   "outputs": [
    {
     "data": {
      "text/plain": [
       "(71167.19441627493, 87898.7246839713)"
      ]
     },
     "execution_count": 6,
     "metadata": {},
     "output_type": "execute_result"
    }
   ],
   "source": [
    "a[0]*30, a[1]*30"
   ]
  },
  {
   "cell_type": "code",
   "execution_count": 11,
   "metadata": {
    "collapsed": false
   },
   "outputs": [
    {
     "data": {
      "text/plain": [
       "(105243.00374733996, 71.742024837849939)"
      ]
     },
     "execution_count": 11,
     "metadata": {},
     "output_type": "execute_result"
    }
   ],
   "source": [
    "0.0489050857973518*71732.82834934306*30, 0.0489050857973518*np.sqrt(71732.82834934306*30)"
   ]
  },
  {
   "cell_type": "code",
   "execution_count": 37,
   "metadata": {
    "collapsed": false
   },
   "outputs": [
    {
     "name": "stderr",
     "output_type": "stream",
     "text": [
      "\u001b[32mINFO:buffer_load:Loading Cached/get_sweightsD0ToKpipipi_WSMagBoth1516 from output/data/store.h5\u001b[0m\n"
     ]
    }
   ],
   "source": [
    "with MODE('MagBoth', 1516, 'WS'):\n",
    "    \n",
    "    bla = mass_fitting.get_sweights()"
   ]
  },
  {
   "cell_type": "code",
   "execution_count": 40,
   "metadata": {
    "collapsed": false
   },
   "outputs": [
    {
     "name": "stderr",
     "output_type": "stream",
     "text": [
      "\u001b[32mINFO:buffer_load:Loading Cached/phsp_variablesD0ToKpipipi_WSMagBoth1516 from output/data/store.h5\u001b[0m\n",
      "\u001b[32mINFO:buffer_load:Loading Cached/full_selectionD0ToKpipipi_WSMagBoth1516 from output/data/store.h5\u001b[0m\n",
      "\u001b[32mINFO:buffer_load:Loading Cached/bdt_selectionD0ToKpipipi_WSMagBoth1516 from output/data/store.h5\u001b[0m\n",
      "\u001b[32mINFO:buffer_load:Loading Cached/spearmint_spi_selectionD0ToKpipipi_WSMagBoth1516 from output/data/store.h5\u001b[0m\n",
      "\u001b[32mINFO:buffer_load:Loading Cached/remove_right_sign_candidatesD0ToKpipipi_WSMagBoth1516 from output/data/store.h5\u001b[0m\n",
      "\u001b[32mINFO:buffer_load:Loading Cached/randomly_remove_candidatesD0ToKpipipi_WSMagBoth1516 from output/data/store.h5\u001b[0m\n",
      "\u001b[32mINFO:buffer_load:Loading Cached/remove_clonesD0ToKpipipi_WSMagBoth1516 from output/data/store.h5\u001b[0m\n",
      "\u001b[32mINFO:buffer_load:Loading Cached/misid_cutD0ToKpipipi_WSMagBoth1516 from output/data/store.h5\u001b[0m\n",
      "\u001b[32mINFO:buffer_load:Loading Cached/get_sweightsD0ToKpipipi_WSMagBoth1516 from output/data/store.h5\u001b[0m\n"
     ]
    }
   ],
   "source": [
    "with MODE('MagBoth', 1516, 'WS'):\n",
    "    \n",
    "    extra_vars = [\n",
    "        gcm().ltime_var,\n",
    "    ]\n",
    "    data = gcm().get_data([f.var for f in extra_vars])\n",
    "    add_variables.append_phsp(data)\n",
    "    config.misid_selection = True\n",
    "    df_sel = final_selection.get_final_selection()\n",
    "    bla = mass_fitting.get_sweights()\n",
    "    \n",
    "    outfile = gcm().get_output_path('background') + 'fuck_knows.pdf'\n",
    "    with PdfPages(outfile) as pdf:\n",
    "        for pc in gcm().phsp_vars + extra_vars:\n",
    "            filled = WS[pc.var]\n",
    "            errorbars = data[pc.var][df_sel]\n",
    "            if pc.convert is not None:\n",
    "                filled = pc.convert(filled)\n",
    "                errorbars = pc.convert(errorbars)\n",
    "            ax = comparison.plot_comparison(\n",
    "                    pc, filled, errorbars, 'Near', 'Far', normed=True, filled_weight=eff_WS, errorbars_weight=bla.sig)\n",
    "            ax.set_xlabel(pc.xlabel)\n",
    "            ax.yaxis.set_visible(False)\n",
    "            ax.legend()\n",
    "            pdf.savefig(plt.gcf())\n",
    "            plt.close()"
   ]
  },
  {
   "cell_type": "code",
   "execution_count": 4,
   "metadata": {
    "collapsed": false
   },
   "outputs": [
    {
     "name": "stderr",
     "output_type": "stream",
     "text": [
      "\u001b[32mINFO:efficiencies:Getting efficiencies for m12, m34, cos1, cos2, D0_Loki_BPVLTIME, cosphi, sinphi\u001b[0m\n",
      "\u001b[32mINFO:efficiencies:Getting efficiencies for m12, m34, cos1, cos2, D0_Loki_BPVLTIME, cosphi, sinphi\u001b[0m\n"
     ]
    }
   ],
   "source": [
    "with MODE('MagBoth', 1516, 'WS'):\n",
    "    eff_RS = efficiencies.compute_efficiency(RS)\n",
    "    eff_WS = efficiencies.compute_efficiency(WS)"
   ]
  },
  {
   "cell_type": "code",
   "execution_count": 5,
   "metadata": {
    "collapsed": true
   },
   "outputs": [],
   "source": [
    "eff_RS[eff_RS>0.5]=0.5\n",
    "eff_RS = eff_RS/0.5\n",
    "eff_WS[eff_WS>0.5]=0.5\n",
    "eff_WS = eff_WS/0.5"
   ]
  },
  {
   "cell_type": "code",
   "execution_count": 4,
   "metadata": {
    "collapsed": false
   },
   "outputs": [],
   "source": [
    "WS['eff'] = eff_WS\n",
    "RS['eff'] = eff_RS\n",
    "WS[vars.m12()] = WS[vars.m12()] / 1000.\n",
    "WS[vars.m34()] = WS[vars.m34()] / 1000.\n",
    "WS[vars.ltime(mode_config.D0)] = WS[vars.ltime(mode_config.D0)] * 1000.\n",
    "WS.rename(\n",
    "            columns={vars.cos1():'c12',\n",
    "                     vars.cos2():'c34',\n",
    "                     vars.ltime(mode_config.D0):'dtime',\n",
    "                     vars.phi1():'phi',\n",
    "                     vars.m12():'m12',\n",
    "                     vars.m34():'m34'},\n",
    "            inplace=True)\n",
    "RS[vars.m12()] = RS[vars.m12()] / 1000.\n",
    "RS[vars.m34()] = RS[vars.m34()] / 1000.\n",
    "RS[vars.ltime(mode_config.D0)] = RS[vars.ltime(mode_config.D0)] * 1000.\n",
    "RS.rename(\n",
    "            columns={vars.cos1():'c12',\n",
    "                     vars.cos2():'c34',\n",
    "                     vars.ltime(mode_config.D0):'dtime',\n",
    "                     vars.phi1():'phi',\n",
    "                     vars.m12():'m12',\n",
    "                     vars.m34():'m34'},\n",
    "            inplace=True)"
   ]
  },
  {
   "cell_type": "code",
   "execution_count": 5,
   "metadata": {
    "collapsed": true
   },
   "outputs": [],
   "source": [
    "import root_pandas\n",
    "WS.to_root('root://eoslhcb.cern.ch//eos/lhcb/user/d/dmuller/K3Pi/signal_toy_data_v2.root')\n",
    "RS.to_root('root://eoslhcb.cern.ch//eos/lhcb/user/d/dmuller/K3Pi/background_toy_data_v2.root')"
   ]
  },
  {
   "cell_type": "code",
   "execution_count": 2,
   "metadata": {
    "collapsed": false
   },
   "outputs": [
    {
     "name": "stderr",
     "output_type": "stream",
     "text": [
      "\u001b[32mINFO:efficiencies:Getting efficiencies for m12, m34, cos1, cos2, D0_Loki_BPVLTIME, cosphi, sinphi\u001b[0m\n"
     ]
    }
   ],
   "source": [
    "PHSP = phsp_generator.phsp_goofit()\n",
    "PHSP['D0_Loki_BPVLTIME'] = PHSP['D0_Loki_BPVLTIME']/1000.\n",
    "with MODE('MagBoth', 1516, 'WS'):\n",
    "    eff_PHSP = efficiencies.compute_efficiency(PHSP)\n",
    "PHSP['eff'] = eff_PHSP\n",
    "PHSP = PHSP[PHSP.D0_Loki_BPVLTIME < 0.00326]\n",
    "PHSP[vars.m12()] = PHSP[vars.m12()] / 1000.\n",
    "PHSP[vars.m34()] = PHSP[vars.m34()] / 1000.\n",
    "PHSP[vars.ltime(mode_config.D0)] = PHSP[vars.ltime(mode_config.D0)] * 1000.\n",
    "PHSP.rename(\n",
    "            columns={vars.cos1():'c12',\n",
    "                     vars.cos2():'c34',\n",
    "                     vars.ltime(mode_config.D0):'dtime',\n",
    "                     vars.phi1():'phi',\n",
    "                     vars.m12():'m12',\n",
    "                     vars.m34():'m34'},\n",
    "            inplace=True)\n",
    "import root_pandas\n",
    "PHSP.to_root('root://eoslhcb.cern.ch//eos/lhcb/user/d/dmuller/K3Pi/phsp_mc_eff_exp2.root')"
   ]
  },
  {
   "cell_type": "code",
   "execution_count": 5,
   "metadata": {
    "collapsed": false
   },
   "outputs": [],
   "source": [
    "rs_hm = eff_RS > np.random.uniform(0, 1., size=eff_RS.index.size)\n",
    "ws_hm = eff_WS > np.random.uniform(0, 1., size=eff_WS.index.size)"
   ]
  },
  {
   "cell_type": "code",
   "execution_count": 6,
   "metadata": {
    "collapsed": false
   },
   "outputs": [],
   "source": [
    "WS['eff'] = eff_WS\n",
    "RS['eff'] = eff_RS"
   ]
  },
  {
   "cell_type": "code",
   "execution_count": 4,
   "metadata": {
    "collapsed": true
   },
   "outputs": [],
   "source": [
    "PHSP['eff'] = eff_PHSP"
   ]
  },
  {
   "cell_type": "code",
   "execution_count": 13,
   "metadata": {
    "collapsed": false
   },
   "outputs": [
    {
     "data": {
      "text/plain": [
       "103818"
      ]
     },
     "execution_count": 13,
     "metadata": {},
     "output_type": "execute_result"
    }
   ],
   "source": [
    "np.random.poisson(a[0]*30)"
   ]
  },
  {
   "cell_type": "code",
   "execution_count": 14,
   "metadata": {
    "collapsed": false
   },
   "outputs": [
    {
     "data": {
      "text/plain": [
       "110453"
      ]
     },
     "execution_count": 14,
     "metadata": {},
     "output_type": "execute_result"
    }
   ],
   "source": [
    "np.random.poisson(a[1]*30)"
   ]
  },
  {
   "cell_type": "code",
   "execution_count": 7,
   "metadata": {
    "collapsed": false
   },
   "outputs": [],
   "source": [
    "sample = WS[ws_hm].sample(np.random.poisson(a[0]*30))\n",
    "sample = sample.append(RS[rs_hm].sample(np.random.poisson(a[1]*30)), ignore_index=True)"
   ]
  },
  {
   "cell_type": "code",
   "execution_count": 8,
   "metadata": {
    "collapsed": false
   },
   "outputs": [
    {
     "name": "stderr",
     "output_type": "stream",
     "text": [
      "\u001b[32mINFO:buffer_load:Loading Cached/phsp_variablesD0ToKpipipi_WSMagBoth1516 from output/data/store.h5\u001b[0m\n",
      "\u001b[32mINFO:buffer_load:Loading Cached/full_selectionD0ToKpipipi_WSMagBoth1516 from output/data/store.h5\u001b[0m\n",
      "\u001b[32mINFO:buffer_load:Loading Cached/bdt_selectionD0ToKpipipi_WSMagBoth1516 from output/data/store.h5\u001b[0m\n",
      "\u001b[32mINFO:buffer_load:Loading Cached/spearmint_spi_selectionD0ToKpipipi_WSMagBoth1516 from output/data/store.h5\u001b[0m\n",
      "\u001b[32mINFO:buffer_load:Loading Cached/remove_right_sign_candidatesD0ToKpipipi_WSMagBoth1516 from output/data/store.h5\u001b[0m\n",
      "\u001b[32mINFO:buffer_load:Loading Cached/randomly_remove_candidatesD0ToKpipipi_WSMagBoth1516 from output/data/store.h5\u001b[0m\n",
      "\u001b[32mINFO:buffer_load:Loading Cached/remove_clonesD0ToKpipipi_WSMagBoth1516 from output/data/store.h5\u001b[0m\n",
      "\u001b[32mINFO:buffer_load:Loading Cached/misid_cutD0ToKpipipi_WSMagBoth1516 from output/data/store.h5\u001b[0m\n"
     ]
    }
   ],
   "source": [
    "config.misid_selection=True\n",
    "with MODE('MagBoth', 1516, 'WS'):\n",
    "\n",
    "    extra_vars = [\n",
    "        gcm().ltime_var,\n",
    "    ]\n",
    "\n",
    "    # Current mode stuff\n",
    "    data = gcm().get_data([f.var for f in extra_vars])\n",
    "    add_variables.append_phsp(data)\n",
    "    df_sel = final_selection.get_final_selection()\n",
    "    # df_sel &= selection.delta_mass_wide_signal_region()\n",
    "\n",
    "    outfile = gcm().get_output_path('effs') + 'toy_data_alt.pdf'\n",
    "    with PdfPages(outfile) as pdf:\n",
    "        for pc in gcm().phsp_vars + extra_vars:\n",
    "            filled = sample[pc.var]\n",
    "            pc.binning = (30, *pc.binning[1:])\n",
    "            errorbars = data[pc.var][df_sel]\n",
    "            if pc.convert is not None:\n",
    "                filled = pc.convert(filled)\n",
    "                errorbars = pc.convert(errorbars)\n",
    "            ax = comparison.plot_comparison(\n",
    "                    pc, filled, errorbars, 'Toy', 'Data')\n",
    "            ax.set_xlabel(pc.xlabel)\n",
    "            ax.yaxis.set_visible(False)\n",
    "            ax.legend()\n",
    "            pdf.savefig(plt.gcf())\n",
    "            plt.close()\n"
   ]
  },
  {
   "cell_type": "code",
   "execution_count": 2,
   "metadata": {
    "collapsed": false
   },
   "outputs": [
    {
     "name": "stderr",
     "output_type": "stream",
     "text": [
      "\u001b[32mINFO:buffer_load:Loading Cached/phsp_variablesD0ToKpipipi_WSMagBoth1516 from output/data/store.h5\u001b[0m\n",
      "\u001b[32mINFO:buffer_load:Caching into Cached/phsp_variablesD0ToKpipipi_WSMagBoth1516\u001b[0m\n",
      "\u001b[32mINFO:buffer_load:Loading Cached/full_selectionD0ToKpipipi_WSMagBoth1516 from output/data/store.h5\u001b[0m\n",
      "\u001b[32mINFO:buffer_load:Loading Cached/bdt_selectionD0ToKpipipi_WSMagBoth1516 from output/data/store.h5\u001b[0m\n",
      "\u001b[32mINFO:buffer_load:Loading Cached/spearmint_spi_selectionD0ToKpipipi_WSMagBoth1516 from output/data/store.h5\u001b[0m\n",
      "\u001b[32mINFO:buffer_load:Loading Cached/remove_right_sign_candidatesD0ToKpipipi_WSMagBoth1516 from output/data/store.h5\u001b[0m\n",
      "\u001b[32mINFO:buffer_load:Loading Cached/randomly_remove_candidatesD0ToKpipipi_WSMagBoth1516 from output/data/store.h5\u001b[0m\n",
      "\u001b[32mINFO:buffer_load:Loading Cached/remove_clonesD0ToKpipipi_WSMagBoth1516 from output/data/store.h5\u001b[0m\n",
      "\u001b[32mINFO:buffer_load:Loading Cached/misid_cutD0ToKpipipi_WSMagBoth1516 from output/data/store.h5\u001b[0m\n",
      "\u001b[32mINFO:buffer_load:Loading Cached/delta_mass_signal_regionD0ToKpipipi_WSMagBoth1516 from output/data/store.h5\u001b[0m\n",
      "\u001b[32mINFO:buffer_load:Loading Cached/phsp_variablesD0ToKpipipi_RSMagBoth1516 from output/data/store.h5\u001b[0m\n",
      "\u001b[32mINFO:buffer_load:Caching into Cached/phsp_variablesD0ToKpipipi_RSMagBoth1516\u001b[0m\n",
      "\u001b[32mINFO:buffer_load:Loading Cached/full_selectionD0ToKpipipi_RSMagBoth1516 from output/data/store.h5\u001b[0m\n",
      "\u001b[32mINFO:buffer_load:Loading Cached/bdt_selectionD0ToKpipipi_RSMagBoth1516 from output/data/store.h5\u001b[0m\n",
      "\u001b[32mINFO:buffer_load:Loading Cached/spearmint_spi_selectionD0ToKpipipi_RSMagBoth1516 from output/data/store.h5\u001b[0m\n",
      "\u001b[32mINFO:buffer_load:Loading Cached/remove_right_sign_candidatesD0ToKpipipi_RSMagBoth1516 from output/data/store.h5\u001b[0m\n",
      "\u001b[32mINFO:buffer_load:Loading Cached/randomly_remove_candidatesD0ToKpipipi_RSMagBoth1516 from output/data/store.h5\u001b[0m\n",
      "\u001b[32mINFO:buffer_load:Loading Cached/remove_clonesD0ToKpipipi_RSMagBoth1516 from output/data/store.h5\u001b[0m\n",
      "\u001b[32mINFO:buffer_load:Loading Cached/misid_cutD0ToKpipipi_RSMagBoth1516 from output/data/store.h5\u001b[0m\n",
      "\u001b[32mINFO:buffer_load:Loading Cached/delta_mass_signal_regionD0ToKpipipi_RSMagBoth1516 from output/data/store.h5\u001b[0m\n"
     ]
    }
   ],
   "source": [
    "config.misid_selection = True\n",
    "with MODE('MagBoth', 1516, 'WS'):\n",
    "\n",
    "    extra_vars = [\n",
    "        gcm().ltime_var,\n",
    "        gcm().dmass_var\n",
    "    ]\n",
    "\n",
    "    # Current mode stuff\n",
    "    dataWS = gcm().get_data([f.var for f in extra_vars])\n",
    "    add_variables.append_phsp(dataWS)\n",
    "    ws_sel = final_selection.get_final_selection()\n",
    "    ws_sel &= selection.delta_mass_signal_region()\n",
    "    with MODE('MagBoth', 1516, 'RS'):\n",
    "        # Current mode stuff\n",
    "        dataRS = gcm().get_data([f.var for f in extra_vars])\n",
    "        add_variables.append_phsp(dataRS)\n",
    "        rs_sel = final_selection.get_final_selection()\n",
    "        rs_sel &= selection.delta_mass_signal_region()\n",
    "\n",
    "    outfile = gcm().get_output_path('effs') + 'WS_Sig_vs_RS_Sig_no_dtf.pdf'\n",
    "    with PdfPages(outfile) as pdf:\n",
    "        for pc in gcm().phsp_vars + extra_vars:\n",
    "            pc.binning = (20, *pc.binning[1:])\n",
    "            filled = dataRS[pc.var][rs_sel]\n",
    "            errorbars = dataWS[pc.var][ws_sel]\n",
    "            if pc.convert is not None:\n",
    "                filled = pc.convert(filled)\n",
    "                errorbars = pc.convert(errorbars)\n",
    "            ax = comparison.plot_comparison(\n",
    "                    pc, filled, errorbars, 'RS sig window', 'WS sig window')\n",
    "            ax.set_xlabel(pc.xlabel)\n",
    "            ax.yaxis.set_visible(False)\n",
    "            ax.legend()\n",
    "            pdf.savefig(plt.gcf())\n",
    "            plt.close()"
   ]
  },
  {
   "cell_type": "code",
   "execution_count": 18,
   "metadata": {
    "collapsed": false
   },
   "outputs": [
    {
     "ename": "NameError",
     "evalue": "name 'sample' is not defined",
     "output_type": "error",
     "traceback": [
      "\u001b[0;31m---------------------------------------------------------------------------\u001b[0m",
      "\u001b[0;31mNameError\u001b[0m                                 Traceback (most recent call last)",
      "\u001b[0;32m<ipython-input-18-4b145604b912>\u001b[0m in \u001b[0;36m<module>\u001b[0;34m()\u001b[0m\n\u001b[0;32m----> 1\u001b[0;31m \u001b[0msample\u001b[0m\u001b[0;34m.\u001b[0m\u001b[0mto_root\u001b[0m\u001b[0;34m(\u001b[0m\u001b[0;34m'root://eoslhcb.cern.ch//eos/lhcb/user/d/dmuller/K3Pi/phsp_mc_eff.root'\u001b[0m\u001b[0;34m)\u001b[0m\u001b[0;34m\u001b[0m\u001b[0m\n\u001b[0m",
      "\u001b[0;31mNameError\u001b[0m: name 'sample' is not defined"
     ]
    }
   ],
   "source": [
    "sample.to_root('root://eoslhcb.cern.ch//eos/lhcb/user/d/dmuller/K3Pi/phsp_mc_eff.root')"
   ]
  },
  {
   "cell_type": "code",
   "execution_count": 16,
   "metadata": {
    "collapsed": true
   },
   "outputs": [],
   "source": [
    "PHSP = PHSP[PHSP.D0_Loki_BPVLTIME < 0.00326]"
   ]
  },
  {
   "cell_type": "code",
   "execution_count": 5,
   "metadata": {
    "collapsed": false
   },
   "outputs": [],
   "source": [
    "PHSP['eff'] = eff_PHSP\n",
    "PHSP = PHSP[PHSP.D0_Loki_BPVLTIME < 0.00326]\n",
    "PHSP[vars.m12()] = PHSP[vars.m12()] / 1000.\n",
    "PHSP[vars.m34()] = PHSP[vars.m34()] / 1000.\n",
    "PHSP[vars.ltime(mode_config.D0)] = PHSP[vars.ltime(mode_config.D0)] * 1000.\n",
    "PHSP.rename(\n",
    "            columns={vars.cos1():'c12',\n",
    "                     vars.cos2():'c34',\n",
    "                     vars.ltime(mode_config.D0):'dtime',\n",
    "                     vars.phi1():'phi',\n",
    "                     vars.m12():'m12',\n",
    "                     vars.m34():'m34'},\n",
    "            inplace=True)\n",
    "PHSP.to_root('root://eoslhcb.cern.ch//eos/lhcb/user/d/dmuller/K3Pi/phsp_mc_eff_flat.root')"
   ]
  },
  {
   "cell_type": "code",
   "execution_count": 5,
   "metadata": {
    "collapsed": true
   },
   "outputs": [],
   "source": [
    "imp_samp_time=1.\n",
    "\n",
    "def two_parts(xs, turn=0.6):\n",
    "    ys = np.ones(len(xs))\n",
    "    ys[xs<turn] = xs[xs<turn]*np.exp(-turn/imp_samp_time)/turn\n",
    "    ys[xs>=turn] = np.exp(-xs[xs>=turn]/imp_samp_time)\n",
    "    norm = 0.5*np.exp(-turn/imp_samp_time)/turn*turn**2 - 0.5*np.exp(-turn/imp_samp_time)/turn*0.1725**2\n",
    "    norm += (-imp_samp_time*np.exp(-3.26/imp_samp_time)+imp_samp_time*np.exp(-turn/imp_samp_time))\n",
    "    return ys/norm\n",
    "\n",
    "def two_parts_generate(turn=0.6, size=1):\n",
    "    int_left = 0.5*np.exp(-turn/imp_samp_time)/turn*turn**2 - 0.5*np.exp(-turn/imp_samp_time)/turn*0.1725**2\n",
    "    int_right = (-imp_samp_time*np.exp(-3.26/imp_samp_time)+imp_samp_time*np.exp(-turn/imp_samp_time))\n",
    "    print(int_left, int_right)\n",
    "    fl = int_left/(int_left+int_right)\n",
    "    print(fl)\n",
    "    left = np.random.triangular(0, turn, turn, size=int(fl*size*3.0))\n",
    "    left = left[left>0.1725][:int(fl*size)]\n",
    "    right = np.random.exponential(imp_samp_time, size=int((size-int(fl*size))*1.4)) + turn\n",
    "    return np.append(left, right[right<3.26][:size-int(fl*size)])"
   ]
  },
  {
   "cell_type": "code",
   "execution_count": 3,
   "metadata": {
    "collapsed": false
   },
   "outputs": [],
   "source": [
    "PHSP = phsp_generator.phsp_goofit()"
   ]
  },
  {
   "cell_type": "code",
   "execution_count": 5,
   "metadata": {
    "collapsed": false
   },
   "outputs": [],
   "source": [
    "PHSP['weight'] = two_parts(PHSP['D0_Loki_BPVLTIME']*1000., 0.55)"
   ]
  },
  {
   "cell_type": "code",
   "execution_count": 6,
   "metadata": {
    "collapsed": false
   },
   "outputs": [
    {
     "name": "stderr",
     "output_type": "stream",
     "text": [
      "\u001b[32mINFO:efficiencies:Getting efficiencies for m12, m34, cos1, cos2, D0_Loki_BPVLTIME, cosphi, sinphi\u001b[0m\n"
     ]
    }
   ],
   "source": [
    "with MODE('MagBoth', 1516, 'WS'):\n",
    "    eff_PHSP = efficiencies.compute_efficiency(PHSP)\n",
    "PHSP['eff'] = eff_PHSP"
   ]
  },
  {
   "cell_type": "code",
   "execution_count": 7,
   "metadata": {
    "collapsed": false
   },
   "outputs": [],
   "source": [
    "# PHSP['eff'] = PHSP['eff']/PHSP['weight']\n",
    "PHSP[vars.m12()] = PHSP[vars.m12()] / 1000.\n",
    "PHSP[vars.m34()] = PHSP[vars.m34()] / 1000.\n",
    "PHSP[vars.ltime(mode_config.D0)] = PHSP[vars.ltime(mode_config.D0)] * 1000.\n",
    "PHSP.rename(\n",
    "            columns={vars.cos1():'c12',\n",
    "                     vars.cos2():'c34',\n",
    "                     vars.ltime(mode_config.D0):'dtime',\n",
    "                     vars.phi1():'phi',\n",
    "                     vars.m12():'m12',\n",
    "                     vars.m34():'m34'},\n",
    "            inplace=True)\n",
    "import root_pandas\n",
    "PHSP.to_root('root://eoslhcb.cern.ch//eos/lhcb/user/d/dmuller/K3Pi/phsp_mc_eff_exp3.root')"
   ]
  },
  {
   "cell_type": "code",
   "execution_count": 18,
   "metadata": {
    "collapsed": true
   },
   "outputs": [],
   "source": [
    "PHSP.query('eff<0.6').to_root('root://eoslhcb.cern.ch//eos/lhcb/user/d/dmuller/K3Pi/rs_integration_sample.root')"
   ]
  },
  {
   "cell_type": "code",
   "execution_count": 8,
   "metadata": {
    "collapsed": false
   },
   "outputs": [
    {
     "data": {
      "image/png": "[encoded data removed]",
      "text/plain": [
       "<matplotlib.figure.Figure at 0x7f544d134128>"
      ]
     },
     "metadata": {
      "image/png": {
       "height": 648,
       "width": 695
      }
     },
     "output_type": "display_data"
    }
   ],
   "source": [
    "with MODE('MagBoth', 1516, 'WS'):\n",
    "    mode = gcm()\n",
    "    outfile = gcm().get_output_path('amplitude_fit') + 'importance_sampling.pdf'\n",
    "    fig, ax = plt.subplots(figsize=(10, 10))\n",
    "    xs = np.linspace(0.1725, 3.26, 10000)\n",
    "    ys = two_parts(xs, turn=.55)\n",
    "    ax.hist(WS.D0_Loki_BPVLTIME, bins=100, range=(0.1725/1000., 3.26/1000.), normed=True, weights=eff_WS, linewidth=2,color='#D3EFFB', edgecolor='#D3EFFB', label='Integrand');\n",
    "    ax.plot(xs/1000.,ys*1000, linewidth=3, color='#006EB6', label='Importance sampling')\n",
    "    ax.set_xlim((0.1725/1000., 3.26/1000.))\n",
    "    ax.set_ylabel('Arbitrary units')\n",
    "    ax.set_xlabel(gcm().ltime_var.xlabel)\n",
    "    ax.legend()\n",
    "    fig.savefig(outfile)"
   ]
  },
  {
   "cell_type": "code",
   "execution_count": 20,
   "metadata": {
    "collapsed": false
   },
   "outputs": [],
   "source": [
    "bla2 = bla[(bla>0.1725) &( bla < 3.26)]"
   ]
  },
  {
   "cell_type": "code",
   "execution_count": 41,
   "metadata": {
    "collapsed": true
   },
   "outputs": [],
   "source": [
    "np.random.power?"
   ]
  },
  {
   "cell_type": "code",
   "execution_count": 42,
   "metadata": {
    "collapsed": false
   },
   "outputs": [
    {
     "data": {
      "text/plain": [
       "(array([  1052.,   3040.,   4983.,   7142.,   9152.,  11009.,  13022.,\n",
       "         14701.,  16967.,  18932.]),\n",
       " array([ 0.00404212,  0.10363739,  0.20323265,  0.30282792,  0.40242319,\n",
       "         0.50201845,  0.60161372,  0.70120899,  0.80080425,  0.90039952,\n",
       "         0.99999479]),\n",
       " <a list of 10 Patch objects>)"
      ]
     },
     "execution_count": 42,
     "metadata": {},
     "output_type": "execute_result"
    },
    {
     "data": {
      "image/png": "[encoded data removed]",
      "text/plain": [
       "<matplotlib.figure.Figure at 0x7f91181d2748>"
      ]
     },
     "metadata": {
      "image/png": {
       "height": 289,
       "width": 454
      }
     },
     "output_type": "display_data"
    }
   ],
   "source": [
    "plt.hist(np.random.triangular(0,1,1, size=100000))"
   ]
  },
  {
   "cell_type": "code",
   "execution_count": null,
   "metadata": {
    "collapsed": true
   },
   "outputs": [],
   "source": []
  }
 ],
 "metadata": {
  "kernelspec": {
   "display_name": "Python 3",
   "language": "python",
   "name": "python3"
  },
  "language_info": {
   "codemirror_mode": {
    "name": "ipython",
    "version": 3
   },
   "file_extension": ".py",
   "mimetype": "text/x-python",
   "name": "python",
   "nbconvert_exporter": "python",
   "pygments_lexer": "ipython3",
   "version": "3.6.1"
  }
 },
 "nbformat": 4,
 "nbformat_minor": 2
}
