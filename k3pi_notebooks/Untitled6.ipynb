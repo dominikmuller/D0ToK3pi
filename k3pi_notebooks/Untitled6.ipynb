{
 "cells": [
  {
   "cell_type": "code",
   "execution_count": 4,
   "metadata": {
    "collapsed": true
   },
   "outputs": [],
   "source": [
    "%config InlineBackend.figure_format='retina'\n",
    "%matplotlib inline\n",
    "\n",
    "def inv_mass(E, PX, PY, PZ):\n",
    "    return np.sqrt(E**2-PX**2-PY**2-PZ**2)\n",
    "def part_combinator(df, cols, *args):\n",
    "    return inv_mass(\n",
    "        np.sum([df[cols[4*a]] for a in args], axis=0),\n",
    "        np.sum([df[cols[4*a+1]] for a in args], axis=0),\n",
    "        np.sum([df[cols[4*a+2]] for a in args], axis=0),\n",
    "        np.sum([df[cols[4*a+3]] for a in args], axis=0))\n",
    "\n",
    "redecay = [\n",
    "    'root://eoslhcb.cern.ch//eos/lhcb/user/m/maxime/MC_D02KKpipi/ReDecay_Model/MD/DV_Bu2D0munu_D02KKpipi_Sim09_ReDecay_Model_DT_0.root',  # NOQA\n",
    "    'root://eoslhcb.cern.ch//eos/lhcb/user/m/maxime/MC_D02KKpipi/ReDecay_Model/MD/DV_Bu2D0munu_D02KKpipi_Sim09_ReDecay_Model_DT_1.root',  # NOQA\n",
    "    'root://eoslhcb.cern.ch//eos/lhcb/user/m/maxime/MC_D02KKpipi/ReDecay_Model/MD/DV_Bu2D0munu_D02KKpipi_Sim09_ReDecay_Model_DT_2.root',  # NOQA\n",
    "    'root://eoslhcb.cern.ch//eos/lhcb/user/m/maxime/MC_D02KKpipi/ReDecay_Model/MD/DV_Bu2D0munu_D02KKpipi_Sim09_ReDecay_Model_DT_3.root',  # NOQA\n",
    "    'root://eoslhcb.cern.ch//eos/lhcb/user/m/maxime/MC_D02KKpipi/ReDecay_Model/MD/DV_Bu2D0munu_D02KKpipi_Sim09_ReDecay_Model_DT_4.root',  # NOQA\n",
    "    'root://eoslhcb.cern.ch//eos/lhcb/user/m/maxime/MC_D02KKpipi/ReDecay_Model/MD/DV_Bu2D0munu_D02KKpipi_Sim09_ReDecay_Model_DT_5.root',  # NOQA\n",
    "    'root://eoslhcb.cern.ch//eos/lhcb/user/m/maxime/MC_D02KKpipi/ReDecay_Model/MD/DV_Bu2D0munu_D02KKpipi_Sim09_ReDecay_Model_DT_6.root',  # NOQA\n",
    "    'root://eoslhcb.cern.ch//eos/lhcb/user/m/maxime/MC_D02KKpipi/ReDecay_Model/MD/DV_Bu2D0munu_D02KKpipi_Sim09_ReDecay_Model_DT_7.root',  # NOQA\n",
    "    'root://eoslhcb.cern.ch//eos/lhcb/user/m/maxime/MC_D02KKpipi/ReDecay_Model/MU/DV_Bu2D0munu_D02KKpipi_Sim09_ReDecay_Model_DT_0.root',  # NOQA\n",
    "    'root://eoslhcb.cern.ch//eos/lhcb/user/m/maxime/MC_D02KKpipi/ReDecay_Model/MU/DV_Bu2D0munu_D02KKpipi_Sim09_ReDecay_Model_DT_1.root',  # NOQA\n",
    "    'root://eoslhcb.cern.ch//eos/lhcb/user/m/maxime/MC_D02KKpipi/ReDecay_Model/MU/DV_Bu2D0munu_D02KKpipi_Sim09_ReDecay_Model_DT_2.root',  # NOQA\n",
    "    'root://eoslhcb.cern.ch//eos/lhcb/user/m/maxime/MC_D02KKpipi/ReDecay_Model/MU/DV_Bu2D0munu_D02KKpipi_Sim09_ReDecay_Model_DT_3.root',  # NOQA\n",
    "    'root://eoslhcb.cern.ch//eos/lhcb/user/m/maxime/MC_D02KKpipi/ReDecay_Model/MU/DV_Bu2D0munu_D02KKpipi_Sim09_ReDecay_Model_DT_4.root',  # NOQA\n",
    "    'root://eoslhcb.cern.ch//eos/lhcb/user/m/maxime/MC_D02KKpipi/ReDecay_Model/MU/DV_Bu2D0munu_D02KKpipi_Sim09_ReDecay_Model_DT_5.root',  # NOQA\n",
    "    'root://eoslhcb.cern.ch//eos/lhcb/user/m/maxime/MC_D02KKpipi/ReDecay_Model/MU/DV_Bu2D0munu_D02KKpipi_Sim09_ReDecay_Model_DT_6.root',  # NOQA\n",
    "    'root://eoslhcb.cern.ch//eos/lhcb/user/m/maxime/MC_D02KKpipi/ReDecay_Model/MU/DV_Bu2D0munu_D02KKpipi_Sim09_ReDecay_Model_DT_7.root',  # NOQA\n",
    "    'root://eoslhcb.cern.ch//eos/lhcb/user/m/maxime/MC_D02KKpipi/ReDecay_Model/MU/DV_Bu2D0munu_D02KKpipi_Sim09_ReDecay_Model_DT_8.root',  # NOQA\n",
    "]\n",
    "\n",
    "redecayoff = [\n",
    "    'root://eoslhcb.cern.ch//eos/lhcb/user/m/maxime/MC_D02KKpipi/ReDecayOff_Model/MD/DV_Bu2D0munu_D02KKpipi_Sim09_ReDecayOff_Model_DT_0.root',  # NOQA\n",
    "    'root://eoslhcb.cern.ch//eos/lhcb/user/m/maxime/MC_D02KKpipi/ReDecayOff_Model/MD/DV_Bu2D0munu_D02KKpipi_Sim09_ReDecayOff_Model_DT_2.root',  # NOQA\n",
    "    'root://eoslhcb.cern.ch//eos/lhcb/user/m/maxime/MC_D02KKpipi/ReDecayOff_Model/MD/DV_Bu2D0munu_D02KKpipi_Sim09_ReDecayOff_Model_DT_3.root',  # NOQA\n",
    "    'root://eoslhcb.cern.ch//eos/lhcb/user/m/maxime/MC_D02KKpipi/ReDecayOff_Model/MD/DV_Bu2D0munu_D02KKpipi_Sim09_ReDecayOff_Model_DT_4.root',  # NOQA\n",
    "    'root://eoslhcb.cern.ch//eos/lhcb/user/m/maxime/MC_D02KKpipi/ReDecayOff_Model/MD/DV_Bu2D0munu_D02KKpipi_Sim09_ReDecayOff_Model_DT_5.root',  # NOQA\n",
    "    'root://eoslhcb.cern.ch//eos/lhcb/user/m/maxime/MC_D02KKpipi/ReDecayOff_Model/MD/DV_Bu2D0munu_D02KKpipi_Sim09_ReDecayOff_Model_DT_6.root',  # NOQA\n",
    "    'root://eoslhcb.cern.ch//eos/lhcb/user/m/maxime/MC_D02KKpipi/ReDecayOff_Model/MD/DV_Bu2D0munu_D02KKpipi_Sim09_ReDecayOff_Model_DT_7.root',  # NOQA\n",
    "    'root://eoslhcb.cern.ch//eos/lhcb/user/m/maxime/MC_D02KKpipi/ReDecayOff_Model/MU/DV_Bu2D0munu_D02KKpipi_Sim09_ReDecayOff_Model_DT_0.root',  # NOQA\n",
    "    'root://eoslhcb.cern.ch//eos/lhcb/user/m/maxime/MC_D02KKpipi/ReDecayOff_Model/MU/DV_Bu2D0munu_D02KKpipi_Sim09_ReDecayOff_Model_DT_1.root',  # NOQA\n",
    "    'root://eoslhcb.cern.ch//eos/lhcb/user/m/maxime/MC_D02KKpipi/ReDecayOff_Model/MU/DV_Bu2D0munu_D02KKpipi_Sim09_ReDecayOff_Model_DT_2.root',  # NOQA\n",
    "    'root://eoslhcb.cern.ch//eos/lhcb/user/m/maxime/MC_D02KKpipi/ReDecayOff_Model/MU/DV_Bu2D0munu_D02KKpipi_Sim09_ReDecayOff_Model_DT_3.root',  # NOQA\n",
    "    'root://eoslhcb.cern.ch//eos/lhcb/user/m/maxime/MC_D02KKpipi/ReDecayOff_Model/MU/DV_Bu2D0munu_D02KKpipi_Sim09_ReDecayOff_Model_DT_4.root',  # NOQA\n",
    "    'root://eoslhcb.cern.ch//eos/lhcb/user/m/maxime/MC_D02KKpipi/ReDecayOff_Model/MU/DV_Bu2D0munu_D02KKpipi_Sim09_ReDecayOff_Model_DT_5.root',  # NOQA\n",
    "    'root://eoslhcb.cern.ch//eos/lhcb/user/m/maxime/MC_D02KKpipi/ReDecayOff_Model/MU/DV_Bu2D0munu_D02KKpipi_Sim09_ReDecayOff_Model_DT_6.root',  # NOQA\n",
    "    'root://eoslhcb.cern.ch//eos/lhcb/user/m/maxime/MC_D02KKpipi/ReDecayOff_Model/MU/DV_Bu2D0munu_D02KKpipi_Sim09_ReDecayOff_Model_DT_7.root',  # NOQA\n",
    "]"
   ]
  },
  {
   "cell_type": "code",
   "execution_count": 5,
   "metadata": {
    "collapsed": true
   },
   "outputs": [],
   "source": [
    "from k3pi_cpp import vec_phsp_variables_maxime, vec_phsp_variables\n",
    "import root_pandas\n",
    "import numpy as np\n",
    "import pandas as pd"
   ]
  },
  {
   "cell_type": "code",
   "execution_count": 6,
   "metadata": {
    "collapsed": true
   },
   "outputs": [],
   "source": [
    "my_eos = 'root://eoslhcb.cern.ch//eos/lhcb/user/d/dmuller/maxime/redecayoff/'"
   ]
  },
  {
   "cell_type": "code",
   "execution_count": 7,
   "metadata": {
    "collapsed": true
   },
   "outputs": [],
   "source": [
    "cols = ['B_D0Fit_D0_Kplus_PE','B_D0Fit_D0_Kplus_PX','B_D0Fit_D0_Kplus_PY','B_D0Fit_D0_Kplus_PZ','B_D0Fit_D0_Kplus_0_PE','B_D0Fit_D0_Kplus_0_PX','B_D0Fit_D0_Kplus_0_PY','B_D0Fit_D0_Kplus_0_PZ','B_D0Fit_D0_piplus_PE','B_D0Fit_D0_piplus_PX','B_D0Fit_D0_piplus_PY','B_D0Fit_D0_piplus_PZ','B_D0Fit_D0_piplus_1_PE','B_D0Fit_D0_piplus_1_PX','B_D0Fit_D0_piplus_1_PY','B_D0Fit_D0_piplus_1_PZ']"
   ]
  },
  {
   "cell_type": "code",
   "execution_count": 8,
   "metadata": {
    "collapsed": true
   },
   "outputs": [],
   "source": [
    "my_eos = 'root://eoslhcb.cern.ch//eos/lhcb/user/d/dmuller/maxime/redecayoff/'"
   ]
  },
  {
   "cell_type": "code",
   "execution_count": 9,
   "metadata": {},
   "outputs": [],
   "source": [
    "for i, df in enumerate(root_pandas.read_root(redecayoff, columns=cols, flatten=True, chunksize=500000)):\n",
    "    for c in cols:\n",
    "        df[c] = df[c]/1000.\n",
    "    m12 = part_combinator(df, cols,0,1)\n",
    "    m34 = part_combinator(df, cols,2,3)\n",
    "    m14 = part_combinator(df, cols,0,3)\n",
    "    m123 = part_combinator(df, cols,0,1,2)\n",
    "    m234 = part_combinator(df, cols,1,2,3)\n",
    "    \n",
    "    out = pd.DataFrame({'m12':m12,'m34':m34,'m14':m14, 'm123':m123, 'm234':m234})\n",
    "    out.to_root(my_eos + f'{i}.root')"
   ]
  },
  {
   "cell_type": "code",
   "execution_count": 10,
   "metadata": {
    "collapsed": true
   },
   "outputs": [],
   "source": [
    "my_eos = 'root://eoslhcb.cern.ch//eos/lhcb/user/d/dmuller/maxime/redecay/'"
   ]
  },
  {
   "cell_type": "code",
   "execution_count": 12,
   "metadata": {},
   "outputs": [],
   "source": [
    "for i, df in enumerate(root_pandas.read_root(redecay, columns=cols, flatten=True, chunksize=500000)):\n",
    "    for c in cols:\n",
    "        df[c] = df[c]/1000.\n",
    "    m12 = part_combinator(df, cols,0,1)\n",
    "    m34 = part_combinator(df, cols,2,3)\n",
    "    m14 = part_combinator(df, cols,0,3)\n",
    "    m123 = part_combinator(df, cols,0,1,2)\n",
    "    m234 = part_combinator(df, cols,1,2,3)\n",
    "    \n",
    "    out = pd.DataFrame({'m12':m12,'m34':m34,'m14':m14, 'm123':m123, 'm234':m234})\n",
    "    out.to_root(my_eos + f'{i}.root')"
   ]
  },
  {
   "cell_type": "code",
   "execution_count": null,
   "metadata": {
    "collapsed": true
   },
   "outputs": [],
   "source": []
  }
 ],
 "metadata": {
  "kernelspec": {
   "display_name": "Python 3",
   "language": "python",
   "name": "python3"
  },
  "language_info": {
   "codemirror_mode": {
    "name": "ipython",
    "version": 3
   },
   "file_extension": ".py",
   "mimetype": "text/x-python",
   "name": "python",
   "nbconvert_exporter": "python",
   "pygments_lexer": "ipython3",
   "version": "3.6.5"
  }
 },
 "nbformat": 4,
 "nbformat_minor": 2
}
